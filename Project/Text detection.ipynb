{
 "cells": [
  {
   "cell_type": "code",
   "execution_count": null,
   "metadata": {},
   "outputs": [],
   "source": [
    "from PIL import Image\n",
    "import pytesseract\n",
    "import cv2\n",
    "import os\n",
    "import shutil\n",
    "from pyaspeller import Word\n",
    "from pyaspeller import YandexSpeller\n",
    "\n",
    "pytesseract.pytesseract.tesseract_cmd = r\"C:\\Program Files\\Tesseract-OCR\\tesseract.exe\""
   ]
  },
  {
   "cell_type": "markdown",
   "metadata": {},
   "source": [
    "## Картинку в текст и просмотр ошибок в %"
   ]
  },
  {
   "cell_type": "code",
   "execution_count": null,
   "metadata": {},
   "outputs": [],
   "source": [
    "def pic_to_text(image):\n",
    "\n",
    "    preprocess = \"thresh\"\n",
    "\n",
    "#     загрузить образ и преобразовать его в оттенки серого\n",
    "    image = cv2.imread(image)\n",
    "    gray = cv2.cvtColor(image, cv2.COLOR_BGR2GRAY)\n",
    "    \n",
    "    # проверьте, следует ли применять пороговое значение для предварительной обработки изображения\n",
    "    if preprocess == \"thresh\":\n",
    "        gray = cv2.threshold(gray, 0, 255,\n",
    "            cv2.THRESH_BINARY | cv2.THRESH_OTSU)[1]\n",
    "\n",
    "    # если нужно медианное размытие, чтобы удалить шум\n",
    "    elif preprocess == \"blur\":\n",
    "        gray = cv2.medianBlur(gray, 3)\n",
    "\n",
    "    # сохраним временную картинку в оттенках серого, чтобы можно было применить к ней OCR\n",
    "    filename = \"{}.png\".format(os.getpid())\n",
    "    cv2.imwrite(filename, gray)\n",
    "    \n",
    "    # Теперь применим OCR к изображению, используя pytesseract:\n",
    "    # загрузка изображения в виде объекта image Pillow, применение OCR, а затем удаление временного файла\n",
    "    text = pytesseract.image_to_string(Image.open(filename), lang='rus')\n",
    "    os.remove(filename)\n",
    "    return text"
   ]
  },
  {
   "cell_type": "code",
   "execution_count": null,
   "metadata": {},
   "outputs": [],
   "source": [
    "def check_spec_symbols(test_str):\n",
    "#     pattern = r'[^\\.a-z0-9]'\n",
    "    pattern = r'[^\\.a-zA-Zа-яА-Я]'\n",
    "    if re.search(pattern, test_str):\n",
    "        #Character other then . a-z 0-9 was found\n",
    "        return True\n",
    "    else:\n",
    "        #No character other then . a-z 0-9 was found\n",
    "        return False"
   ]
  },
  {
   "cell_type": "code",
   "execution_count": 155,
   "metadata": {},
   "outputs": [],
   "source": [
    "def get_clean_text(name):\n",
    "    t = pic_to_text(name)\n",
    "    \n",
    "    speller = YandexSpeller()\n",
    "    text = t\n",
    "    spl = text.split()\n",
    "    \n",
    "    for el in spl:\n",
    "        if (len(el) == 1 or check_spec_symbols(el)):\n",
    "            spl.remove(el)\n",
    "            \n",
    "    count = 0\n",
    "    for el in spl:\n",
    "        check = Word(el)\n",
    "        if (check.correct == False):\n",
    "            count += 1\n",
    "            # create df and fill in\n",
    "        #     print('el: {}, correct: {}, count: {}'.format(el, check.correct, count))\n",
    "    perc = count / len(spl) * 100\n",
    "    print('{}% of mistakes!'.format(perc))"
   ]
  },
  {
   "cell_type": "code",
   "execution_count": 157,
   "metadata": {},
   "outputs": [
    {
     "name": "stdout",
     "output_type": "stream",
     "text": [
      "41.66666666666667% of mistakes!\n"
     ]
    }
   ],
   "source": [
    "get_clean_text('bad.jpg')"
   ]
  },
  {
   "cell_type": "code",
   "execution_count": null,
   "metadata": {},
   "outputs": [],
   "source": []
  },
  {
   "cell_type": "markdown",
   "metadata": {},
   "source": [
    "## Проверить разом текст и заменить слова, не всегда работает"
   ]
  },
  {
   "cell_type": "code",
   "execution_count": 159,
   "metadata": {},
   "outputs": [],
   "source": [
    "def get_text(text):\n",
    "    changes = {change['word']: change['s'][0] for change in speller.spell(text)}\n",
    "    for word, suggestion in changes.items():\n",
    "        text = text.replace(word, suggestion)\n",
    "    print(text)"
   ]
  },
  {
   "cell_type": "markdown",
   "metadata": {},
   "source": [
    "## Проверить варианты исправления и сохранить вариант"
   ]
  },
  {
   "cell_type": "code",
   "execution_count": 71,
   "metadata": {},
   "outputs": [
    {
     "data": {
      "text/plain": [
       "['хина']"
      ]
     },
     "execution_count": 71,
     "metadata": {},
     "output_type": "execute_result"
    }
   ],
   "source": [
    "check.variants"
   ]
  },
  {
   "cell_type": "code",
   "execution_count": null,
   "metadata": {},
   "outputs": [],
   "source": [
    "check.spellsafe\n",
    "u'test'"
   ]
  }
 ],
 "metadata": {
  "kernelspec": {
   "display_name": "Python 3",
   "language": "python",
   "name": "python3"
  },
  "language_info": {
   "codemirror_mode": {
    "name": "ipython",
    "version": 3
   },
   "file_extension": ".py",
   "mimetype": "text/x-python",
   "name": "python",
   "nbconvert_exporter": "python",
   "pygments_lexer": "ipython3",
   "version": "3.7.4"
  }
 },
 "nbformat": 4,
 "nbformat_minor": 2
}
